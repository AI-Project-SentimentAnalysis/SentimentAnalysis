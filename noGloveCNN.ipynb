{
  "nbformat": 4,
  "nbformat_minor": 0,
  "metadata": {
    "colab": {
      "name": "noGloveCNN.ipynb",
      "provenance": [],
      "collapsed_sections": [],
      "toc_visible": true
    },
    "kernelspec": {
      "name": "python3",
      "display_name": "Python 3"
    },
    "accelerator": "TPU"
  },
  "cells": [
    {
      "cell_type": "markdown",
      "metadata": {
        "id": "WbGCOoLXXt0c",
        "colab_type": "text"
      },
      "source": [
        "*CNN with sequential GloVe embeddings*"
      ]
    },
    {
      "cell_type": "markdown",
      "metadata": {
        "id": "ETe71vYqX6Ow",
        "colab_type": "text"
      },
      "source": [
        "This notebook performs classification on the Twitter Sentiment140 dataset with ~1.6 milllions tweets. We use Stanford's pretrained [GloVe embedding ](https://nlp.stanford.edu/projects/glove/) to format our data and classify with a Convolutional Neural Network (CNN)"
      ]
    },
    {
      "cell_type": "code",
      "metadata": {
        "id": "w_Qfvz3jLFN1",
        "colab_type": "code",
        "colab": {
          "base_uri": "https://localhost:8080/",
          "height": 51
        },
        "outputId": "daaa3832-dc96-42ad-f770-5def73923cff"
      },
      "source": [
        "%load_ext autoreload\n",
        "%autoreload 2\n",
        "from data_preprocessing import *"
      ],
      "execution_count": 4,
      "outputs": [
        {
          "output_type": "stream",
          "text": [
            "[Errno 2] No such file or directory: 'GloVe_Sentiment_Analysis_MLP_CNN_TwitterSentiment140-master/'\n",
            "/content/GloVe_Sentiment_Analysis_MLP_CNN_TwitterSentiment140-master\n"
          ],
          "name": "stdout"
        }
      ]
    },
    {
      "cell_type": "code",
      "metadata": {
        "id": "bK0hDazIQn5R",
        "colab_type": "code",
        "colab": {}
      },
      "source": [
        "#use glove embedding for embedding vocabulary matrix embedding but \n",
        "#CountVectorizer and tfidf for tweets\n",
        "word2vectors, word2id = load_GloVe_twitter_emb() \n",
        "# load the twitter dataset and splits in train/val/test\n",
        "train, val, test = load_twitter_datasets(n_train=25000, n_val=8000)"
      ],
      "execution_count": 0,
      "outputs": []
    },
    {
      "cell_type": "code",
      "metadata": {
        "id": "X4cURV-CJC3d",
        "colab_type": "code",
        "colab": {
          "base_uri": "https://localhost:8080/",
          "height": 445
        },
        "outputId": "fcf4c2e7-1aee-4cd5-f483-c0270002c600"
      },
      "source": [
        "tweets = train.tweet.apply(normalize_text).values\n",
        "# original tweets\n",
        "train.tweet.values[:25]"
      ],
      "execution_count": 9,
      "outputs": [
        {
          "output_type": "execute_result",
          "data": {
            "text/plain": [
              "array(['Camera shopping today ',\n",
              "       'Home now. No work again at the ward untill tuesday!  But lots of drawing to be done! but now some COD4!!',\n",
              "       'OMG HANNAH MONTANA MOVIE WAS AWESOME!!!!! AGH LOVED IT SO MUCH! the guy was hot ;) hahaha @SabrinaBryan no dont leave me hanging ',\n",
              "       '@LeoWolfe I dont watch the live feeds though  and ok ',\n",
              "       'my tummy hurts ', 'My comp crashes again ',\n",
              "       'won a LED 5W AA powered flashlight, because my existing normal AA powered flashlight makes me ',\n",
              "       'Doing work!!! Homework that is  1 wk left before FINALS its crunch time...',\n",
              "       'http://twitpic.com/6tqbf - P!nk rocking it in Sydney  Me the amateur photographer!',\n",
              "       '@DonaldUSAFan We do not choose how we are packaged- our DNA &amp; Angels ;) do-but WE can choose our behavior, our actions &amp; treatment of ppl ',\n",
              "       'so tired...taking a nap ',\n",
              "       \"@RachelHawley If its a 15, they won't let me do it \",\n",
              "       'Tonight IÂ´ll be watching Rock am Ring  Yesterday was awsome...',\n",
              "       'at my aunties bday party with the fam ',\n",
              "       \"#LOFNOTC Luckily I just usually drink Jack Daniel's. Black Label. Gentleman Jack if I'm feeling real generous. Oh, and frisky. \",\n",
              "       \"Looks like Twitter's biz model will involve DM spam. http://tr.im/parL Yay \",\n",
              "       'I am so tired but I need to study.  Only two more days of class forev!',\n",
              "       \"@Piewacket1 in bed sounds nice tho ;)  i'm up having coffee waiting for the girls to wake up, my visitors are leaving tomorrow \",\n",
              "       '@ZudaGay hey there, thanks so much ',\n",
              "       'Home bound... Wish I had a soft top ',\n",
              "       '@BrittanyySnoww its nothing big lol just really sweet  still counts though',\n",
              "       'have seen 1st minute of True blood season 2..... itÂ´s so fantastic, canÂ´t wait until 2night ... AND I know who got murdered last ',\n",
              "       '@Muldz04 your hot! ',\n",
              "       '@AleeciaNyc @KurstieLee  the @sophiaofthebush  u r following is fake!! ',\n",
              "       \"@ochaos Oh pants - that's not good \"], dtype=object)"
            ]
          },
          "metadata": {
            "tags": []
          },
          "execution_count": 9
        }
      ]
    },
    {
      "cell_type": "code",
      "metadata": {
        "id": "EANW0CosJLJY",
        "colab_type": "code",
        "colab": {
          "base_uri": "https://localhost:8080/",
          "height": 207
        },
        "outputId": "0469dd47-c3f2-4c3f-a2a3-21bf74b30576"
      },
      "source": [
        "tweets[:10]"
      ],
      "execution_count": 10,
      "outputs": [
        {
          "output_type": "execute_result",
          "data": {
            "text/plain": [
              "array(['camera shopping today',\n",
              "       'home now no work again at the ward untill tuesday but lots of drawing to be done but now some cod',\n",
              "       'omg hannah montana movie was awesome agh loved it so much the guy was hot hahaha sabrinabryan no dont leave me hanging',\n",
              "       'leowolfe i dont watch the live feeds though and ok',\n",
              "       'my tummy hurts', 'my comp crashes again',\n",
              "       'won a led w aa powered flashlight because my existing normal aa powered flashlight makes me',\n",
              "       'doing work homework that is wk left before finals its crunch time',\n",
              "       'http twitpic com tqbf p nk rocking it in sydney me the amateur photographer',\n",
              "       'donaldusafan we do not choose how we are packaged our dna amp angels do but we can choose our behavior our actions amp treatment of ppl'],\n",
              "      dtype=object)"
            ]
          },
          "metadata": {
            "tags": []
          },
          "execution_count": 10
        }
      ]
    },
    {
      "cell_type": "code",
      "metadata": {
        "id": "8qX9QYWfp49X",
        "colab_type": "code",
        "colab": {}
      },
      "source": [
        "from sklearn.model_selection import train_test_split\n",
        "from sklearn.feature_extraction.text import CountVectorizer\n",
        "from sklearn.preprocessing import StandardScaler\n",
        "def vectorize_words(dataSetObj):\n",
        "    tweets = dataSetObj.tweet.apply(normalize_text).values\n",
        "    polarities = dataSetObj.polarity\n",
        "    # extract features\n",
        "    '''train_tweets, test_tweets = train_test_split(\n",
        "        tweets,\n",
        "        polarities,\n",
        "        train_size\n",
        "        )\n",
        "        '''\n",
        "\n",
        "    x_train = CountVectorizer(  # max_df=.9,\n",
        "                analyzer='word',\n",
        "                lowercase=False,\n",
        "            )\n",
        "\n",
        "    x_train = x_train.fit_transform(tweets)\n",
        "\n",
        " \n",
        "    return x_train, polarities"
      ],
      "execution_count": 0,
      "outputs": []
    },
    {
      "cell_type": "code",
      "metadata": {
        "id": "Pl0ZfCNxt1xV",
        "colab_type": "code",
        "colab": {
          "base_uri": "https://localhost:8080/",
          "height": 34
        },
        "outputId": "e8e0829e-0b84-4394-e67f-92403e0eeb92"
      },
      "source": [
        "from useful_components import TwitterDataset \n",
        "df = TwitterDataSet()\n",
        "Xtrain, Ytrain, Xval, Yval df.get_test_train_split()\n",
        "Xtest, Ytest = processAllTweets2vec(test) #returns feature_count_tfidf and polarities\n",
        "Xtrain.shape, Ytrain.shape"
      ],
      "execution_count": 22,
      "outputs": [
        {
          "output_type": "execute_result",
          "data": {
            "text/plain": [
              "((25000, 200), (25000, 1))"
            ]
          },
          "metadata": {
            "tags": []
          },
          "execution_count": 22
        }
      ]
    },
    {
      "cell_type": "code",
      "metadata": {
        "id": "2ys12rRjR98H",
        "colab_type": "code",
        "colab": {
          "base_uri": "https://localhost:8080/",
          "height": 281
        },
        "outputId": "cfcaef87-963b-4a0c-817e-cd6461191626"
      },
      "source": [
        "# look into distribution of length of tweets to determine optimal padding\n",
        "import matplotlib.pyplot as plt\n",
        "train.tweet.apply(normalize_text).apply(lambda x: len(x.split(' '))).hist()\n",
        "plt.title('Distribution of length of tweets')\n",
        "plt.show()"
      ],
      "execution_count": 23,
      "outputs": [
        {
          "output_type": "display_data",
          "data": {
            "image/png": "[encoded data removed]",
            "text/plain": [
              "<Figure size 432x288 with 1 Axes>"
            ]
          },
          "metadata": {
            "tags": []
          }
        }
      ]
    },
    {
      "cell_type": "markdown",
      "metadata": {
        "id": "6gBDXhXaXUKm",
        "colab_type": "text"
      },
      "source": [
        "Create embedding matrix"
      ]
    },
    {
      "cell_type": "code",
      "metadata": {
        "id": "RpsxKwuILJJk",
        "colab_type": "code",
        "outputId": "4a0f20d4-d4e8-4301-f5fb-4be4ebfacb5f",
        "colab": {
          "base_uri": "https://localhost:8080/",
          "height": 34
        }
      },
      "source": [
        "#Create embedding matrix for CNN\n",
        "vocab = extractVocabulary(train)\n",
        "restrictedWord2id, embMatrix = vocabEmbeddings(vocab, word2vectors)"
      ],
      "execution_count": 24,
      "outputs": [
        {
          "output_type": "stream",
          "text": [
            "100%|██████████| 25000/25000 [00:08<00:00, 2854.87it/s]\n"
          ],
          "name": "stderr"
        }
      ]
    },
    {
      "cell_type": "code",
      "metadata": {
        "id": "YQDk_-fGS0T2",
        "colab_type": "code",
        "outputId": "7dfa2eb9-b14c-4e20-fa01-d658f8996368",
        "colab": {
          "base_uri": "https://localhost:8080/",
          "height": 34
        }
      },
      "source": [
        "embMatrix.shape"
      ],
      "execution_count": 25,
      "outputs": [
        {
          "output_type": "execute_result",
          "data": {
            "text/plain": [
              "(13158, 200)"
            ]
          },
          "metadata": {
            "tags": []
          },
          "execution_count": 25
        }
      ]
    },
    {
      "cell_type": "markdown",
      "metadata": {
        "id": "YqA7vFrpXXtH",
        "colab_type": "text"
      },
      "source": [
        "Process all data to tokens in matrix format to train CNN with"
      ]
    },
    {
      "cell_type": "code",
      "metadata": {
        "id": "D1eaXs_AS7Lt",
        "colab_type": "code",
        "colab": {}
      },
      "source": [
        "Xtrain, Ytrain = processAllTweets2tok(train, restrictedWord2id)\n",
        "Xval, Yval = processAllTweets2tok(val, restrictedWord2id)\n",
        "Xtest, Ytest = processAllTweets2tok(test, restrictedWord2id)"
      ],
      "execution_count": 0,
      "outputs": []
    },
    {
      "cell_type": "code",
      "metadata": {
        "id": "FkttgcGfSTQY",
        "colab_type": "code",
        "colab": {
          "base_uri": "https://localhost:8080/",
          "height": 34
        },
        "outputId": "b84c3078-7532-4e3e-e9bb-f93738ff584d"
      },
      "source": [
        "Xtrain.shape, Ytrain.shape"
      ],
      "execution_count": 29,
      "outputs": [
        {
          "output_type": "execute_result",
          "data": {
            "text/plain": [
              "((25000, 40), (25000, 1))"
            ]
          },
          "metadata": {
            "tags": []
          },
          "execution_count": 29
        }
      ]
    },
    {
      "cell_type": "markdown",
      "metadata": {
        "id": "MZh8VQTVTBg8",
        "colab_type": "text"
      },
      "source": [
        "Create PyTorch DataLoader"
      ]
    },
    {
      "cell_type": "code",
      "metadata": {
        "id": "Sga5WJq1TFnm",
        "colab_type": "code",
        "colab": {}
      },
      "source": [
        "import torch\n",
        "from utils import *\n",
        "import torch.utils.data as td\n",
        "# create Tensor datasets\n",
        "train_data = td.TensorDataset(convertToTorchInt(Xtrain), convertToTorchFloat(Ytrain))\n",
        "val_data = td.TensorDataset(convertToTorchInt(Xval), convertToTorchFloat(Yval))\n",
        "test_data = td.TensorDataset(convertToTorchInt(Xtest), convertToTorchFloat(Ytest))\n",
        "\n",
        "# dataloaders\n",
        "batch_size = 128\n",
        "\n",
        "# make sure to SHUFFLE your data\n",
        "train_loader = td.DataLoader(train_data, shuffle=True, batch_size=batch_size)\n",
        "val_loader = td.DataLoader(val_data, shuffle=True, batch_size=batch_size)\n",
        "test_loader = td.DataLoader(test_data, shuffle=True, batch_size=batch_size)"
      ],
      "execution_count": 0,
      "outputs": []
    },
    {
      "cell_type": "markdown",
      "metadata": {
        "id": "aTAWDXxRUTT6",
        "colab_type": "text"
      },
      "source": [
        "Create our CNN model"
      ]
    },
    {
      "cell_type": "code",
      "metadata": {
        "id": "pMVWvM3eTH-z",
        "colab_type": "code",
        "outputId": "a632eeac-a953-426f-ef80-0f1ad8d6d82c",
        "colab": {
          "base_uri": "https://localhost:8080/",
          "height": 272
        }
      },
      "source": [
        "from models import NetCNN\n",
        "cnn = NetCNN(vocab_size=embMatrix.shape[0], embedding_matrix=embMatrix, \n",
        "             filter_sizes=[1, 2, 3, 5, 10], num_filters=8, embed_size=embMatrix.shape[1], \n",
        "             finetune_emb=False, epochs=150, learning_rate=2e-5, l2reg=3e-3, dropout=0.1)\n",
        "\n",
        "cnn = cnn.cuda() if torch.cuda.is_available() else cnn\n",
        "print (cnn)\n",
        "print (sum([np.prod(p.size()) for p in cnn.parameters()])-np.prod(embMatrix.shape))"
      ],
      "execution_count": 31,
      "outputs": [
        {
          "output_type": "stream",
          "text": [
            "NetCNN(\n",
            "  (embedding): Embedding(13158, 200)\n",
            "  (convs1): ModuleList(\n",
            "    (0): Conv2d(1, 8, kernel_size=(1, 200), stride=(1, 1))\n",
            "    (1): Conv2d(1, 8, kernel_size=(2, 200), stride=(1, 1))\n",
            "    (2): Conv2d(1, 8, kernel_size=(3, 200), stride=(1, 1))\n",
            "    (3): Conv2d(1, 8, kernel_size=(5, 200), stride=(1, 1))\n",
            "    (4): Conv2d(1, 8, kernel_size=(10, 200), stride=(1, 1))\n",
            "  )\n",
            "  (dropout): Dropout(p=0.1, inplace=False)\n",
            "  (fc): Linear(in_features=40, out_features=1, bias=True)\n",
            "  (finalActivation): Sigmoid()\n",
            "  (criterion): BCELoss()\n",
            ")\n",
            "33681\n"
          ],
          "name": "stdout"
        }
      ]
    },
    {
      "cell_type": "markdown",
      "metadata": {
        "id": "EMSaoSxeUlqN",
        "colab_type": "text"
      },
      "source": [
        "Train CNN"
      ]
    },
    {
      "cell_type": "code",
      "metadata": {
        "id": "0Rm_JTgxUm0U",
        "colab_type": "code",
        "colab": {
          "base_uri": "https://localhost:8080/",
          "height": 1000
        },
        "outputId": "2377a58f-e529-40f7-f3e9-e384d7e6c605"
      },
      "source": [
        "history = cnn.fit(train_loader, val_loader)\n",
        "test_performance = cnn.evaluate_loader(test_loader)\n",
        "print (\"Test performance: loss={:.3f}, accuracy={:.3f}, precision={:.3f}, recall={:.3f}, f1={:.3f}\".format(*[ test_performance[m] for m in ['loss', 'accuracy', 'precision', 'recall', 'f1']]))"
      ],
      "execution_count": 32,
      "outputs": [
        {
          "output_type": "stream",
          "text": [
            "Epoch 1/150\n",
            "Train performance: loss=0.690, accuracy=0.525, precision=0.562, recall=0.159, f1=0.239\n",
            "Val   performance: loss=0.686, accuracy=0.558, precision=0.623, recall=0.243, f1=0.347\n",
            "Epoch 6/150\n",
            "Train performance: loss=0.653, accuracy=0.662, precision=0.700, recall=0.554, f1=0.616\n",
            "Val   performance: loss=0.652, accuracy=0.662, precision=0.695, recall=0.552, f1=0.613\n",
            "Epoch 11/150\n",
            "Train performance: loss=0.620, accuracy=0.688, precision=0.705, recall=0.636, f1=0.667\n",
            "Val   performance: loss=0.620, accuracy=0.679, precision=0.685, recall=0.637, f1=0.657\n",
            "Epoch 16/150\n",
            "Train performance: loss=0.593, accuracy=0.704, precision=0.715, recall=0.670, f1=0.690\n",
            "Val   performance: loss=0.594, accuracy=0.694, precision=0.693, recall=0.669, f1=0.679\n",
            "Epoch 21/150\n",
            "Train performance: loss=0.573, accuracy=0.715, precision=0.720, recall=0.692, f1=0.704\n",
            "Val   performance: loss=0.578, accuracy=0.707, precision=0.705, recall=0.689, f1=0.695\n",
            "Epoch 26/150\n",
            "Train performance: loss=0.557, accuracy=0.725, precision=0.726, recall=0.711, f1=0.717\n",
            "Val   performance: loss=0.565, accuracy=0.711, precision=0.707, recall=0.701, f1=0.702\n",
            "Epoch 31/150\n",
            "Train performance: loss=0.546, accuracy=0.729, precision=0.728, recall=0.718, f1=0.722\n",
            "Val   performance: loss=0.557, accuracy=0.715, precision=0.709, recall=0.709, f1=0.708\n",
            "Epoch 36/150\n",
            "Train performance: loss=0.536, accuracy=0.735, precision=0.733, recall=0.729, f1=0.730\n",
            "Val   performance: loss=0.549, accuracy=0.722, precision=0.713, recall=0.727, f1=0.718\n",
            "Epoch 41/150\n",
            "Train performance: loss=0.528, accuracy=0.741, precision=0.738, recall=0.736, f1=0.735\n",
            "Val   performance: loss=0.544, accuracy=0.720, precision=0.706, recall=0.733, f1=0.718\n",
            "Epoch 46/150\n",
            "Train performance: loss=0.524, accuracy=0.742, precision=0.737, recall=0.744, f1=0.739\n",
            "Val   performance: loss=0.541, accuracy=0.725, precision=0.717, recall=0.726, f1=0.720\n",
            "Epoch 51/150\n",
            "Train performance: loss=0.517, accuracy=0.748, precision=0.744, recall=0.749, f1=0.745\n",
            "Val   performance: loss=0.540, accuracy=0.725, precision=0.709, recall=0.744, f1=0.724\n",
            "Epoch 56/150\n",
            "Train performance: loss=0.514, accuracy=0.750, precision=0.745, recall=0.751, f1=0.747\n",
            "Val   performance: loss=0.537, accuracy=0.722, precision=0.710, recall=0.731, f1=0.719\n",
            "Epoch 61/150\n",
            "Train performance: loss=0.510, accuracy=0.753, precision=0.747, recall=0.755, f1=0.749\n",
            "Val   performance: loss=0.531, accuracy=0.726, precision=0.706, recall=0.757, f1=0.729\n",
            "Epoch 66/150\n",
            "Train performance: loss=0.505, accuracy=0.756, precision=0.750, recall=0.758, f1=0.752\n",
            "Val   performance: loss=0.533, accuracy=0.729, precision=0.713, recall=0.748, f1=0.728\n",
            "Epoch 71/150\n",
            "Train performance: loss=0.502, accuracy=0.757, precision=0.749, recall=0.763, f1=0.755\n",
            "Val   performance: loss=0.530, accuracy=0.731, precision=0.718, recall=0.743, f1=0.729\n",
            "Epoch 76/150\n",
            "Train performance: loss=0.497, accuracy=0.762, precision=0.753, recall=0.769, f1=0.760\n",
            "Val   performance: loss=0.528, accuracy=0.729, precision=0.714, recall=0.748, f1=0.729\n",
            "Epoch 81/150\n",
            "Train performance: loss=0.494, accuracy=0.763, precision=0.756, recall=0.768, f1=0.761\n",
            "Val   performance: loss=0.528, accuracy=0.733, precision=0.713, recall=0.760, f1=0.734\n",
            "Epoch 86/150\n",
            "Train performance: loss=0.492, accuracy=0.764, precision=0.759, recall=0.766, f1=0.761\n",
            "Val   performance: loss=0.527, accuracy=0.730, precision=0.713, recall=0.753, f1=0.731\n",
            "Epoch 91/150\n",
            "Train performance: loss=0.488, accuracy=0.767, precision=0.758, recall=0.776, f1=0.765\n",
            "Val   performance: loss=0.524, accuracy=0.734, precision=0.723, recall=0.745, f1=0.732\n",
            "Epoch 96/150\n",
            "Train performance: loss=0.485, accuracy=0.768, precision=0.760, recall=0.775, f1=0.766\n",
            "Val   performance: loss=0.525, accuracy=0.732, precision=0.712, recall=0.759, f1=0.734\n",
            "Epoch 101/150\n",
            "Train performance: loss=0.482, accuracy=0.773, precision=0.765, recall=0.781, f1=0.771\n",
            "Val   performance: loss=0.524, accuracy=0.738, precision=0.722, recall=0.754, f1=0.736\n",
            "Epoch 106/150\n",
            "Train performance: loss=0.479, accuracy=0.774, precision=0.768, recall=0.779, f1=0.772\n",
            "Val   performance: loss=0.526, accuracy=0.733, precision=0.715, recall=0.755, f1=0.734\n",
            "Epoch 111/150\n",
            "Train performance: loss=0.476, accuracy=0.777, precision=0.771, recall=0.782, f1=0.775\n",
            "Val   performance: loss=0.525, accuracy=0.735, precision=0.718, recall=0.757, f1=0.736\n",
            "Epoch 116/150\n",
            "Train performance: loss=0.475, accuracy=0.777, precision=0.770, recall=0.783, f1=0.775\n",
            "Val   performance: loss=0.525, accuracy=0.732, precision=0.717, recall=0.749, f1=0.731\n",
            "Epoch 121/150\n",
            "Train performance: loss=0.472, accuracy=0.779, precision=0.771, recall=0.785, f1=0.777\n",
            "Val   performance: loss=0.524, accuracy=0.738, precision=0.721, recall=0.758, f1=0.738\n",
            "Epoch 126/150\n",
            "Train performance: loss=0.469, accuracy=0.782, precision=0.771, recall=0.794, f1=0.781\n",
            "Val   performance: loss=0.522, accuracy=0.739, precision=0.725, recall=0.755, f1=0.738\n",
            "Epoch 131/150\n",
            "Train performance: loss=0.466, accuracy=0.783, precision=0.774, recall=0.791, f1=0.781\n",
            "Val   performance: loss=0.522, accuracy=0.737, precision=0.722, recall=0.752, f1=0.735\n",
            "Epoch 136/150\n",
            "Train performance: loss=0.462, accuracy=0.785, precision=0.779, recall=0.791, f1=0.783\n",
            "Val   performance: loss=0.520, accuracy=0.735, precision=0.720, recall=0.755, f1=0.735\n",
            "Epoch 141/150\n",
            "Train performance: loss=0.462, accuracy=0.784, precision=0.775, recall=0.793, f1=0.783\n",
            "Val   performance: loss=0.519, accuracy=0.740, precision=0.723, recall=0.758, f1=0.738\n",
            "Epoch 146/150\n",
            "Train performance: loss=0.459, accuracy=0.788, precision=0.779, recall=0.797, f1=0.787\n",
            "Val   performance: loss=0.522, accuracy=0.736, precision=0.721, recall=0.753, f1=0.735\n",
            "Test performance: loss=0.489, accuracy=0.758, precision=0.733, recall=0.805, f1=0.767\n"
          ],
          "name": "stdout"
        }
      ]
    },
    {
      "cell_type": "code",
      "metadata": {
        "id": "wl6hwN7I-TYH",
        "colab_type": "code",
        "colab": {
          "base_uri": "https://localhost:8080/",
          "height": 1000
        },
        "outputId": "e7fc3d81-3867-4eb8-9be6-57cb6f5bd58a"
      },
      "source": [
        "plot_perf(history, test_performance)"
      ],
      "execution_count": 33,
      "outputs": [
        {
          "output_type": "display_data",
          "data": {
            "image/png": "[encoded data removed]",
            "text/plain": [
              "<Figure size 432x288 with 1 Axes>"
            ]
          },
          "metadata": {
            "tags": []
          }
        },
        {
          "output_type": "display_data",
          "data": {
            "image/png": "[encoded data removed]",
            "text/plain": [
              "<Figure size 432x288 with 1 Axes>"
            ]
          },
          "metadata": {
            "tags": []
          }
        },
        {
          "output_type": "display_data",
          "data": {
            "image/png": "[encoded data removed]",
            "text/plain": [
              "<Figure size 432x288 with 1 Axes>"
            ]
          },
          "metadata": {
            "tags": []
          }
        },
        {
          "output_type": "display_data",
          "data": {
            "image/png": "[encoded data removed]",
            "text/plain": [
              "<Figure size 432x288 with 1 Axes>"
            ]
          },
          "metadata": {
            "tags": []
          }
        },
        {
          "output_type": "display_data",
          "data": {
            "image/png": "[encoded data removed]",
            "text/plain": [
              "<Figure size 432x288 with 1 Axes>"
            ]
          },
          "metadata": {
            "tags": []
          }
        }
      ]
    },
    {
      "cell_type": "code",
      "metadata": {
        "id": "T2ZaXGL4E0Iw",
        "colab_type": "code",
        "colab": {
          "base_uri": "https://localhost:8080/",
          "height": 34
        },
        "outputId": "8dbde187-b29a-4cb4-be96-592172ef9bf0"
      },
      "source": [
        "classes = (1., 0.)\n",
        "dataiter = iter(test_loader)\n",
        "text, labels = dataiter.next()\n",
        "print('GroundTruth: ', ' '.join('%5s' % classes[int(labels[j])] for j in range(10)))"
      ],
      "execution_count": 47,
      "outputs": [
        {
          "output_type": "stream",
          "text": [
            "GroundTruth:    1.0   0.0   0.0   1.0   1.0   0.0   1.0   0.0   0.0   1.0\n"
          ],
          "name": "stdout"
        }
      ]
    },
    {
      "cell_type": "code",
      "metadata": {
        "id": "sePAtSmfE1hW",
        "colab_type": "code",
        "colab": {}
      },
      "source": [
        "outputs = cnn(text)"
      ],
      "execution_count": 0,
      "outputs": []
    },
    {
      "cell_type": "code",
      "metadata": {
        "id": "GfYAPkjDE8En",
        "colab_type": "code",
        "colab": {
          "base_uri": "https://localhost:8080/",
          "height": 34
        },
        "outputId": "41a071a6-f840-41f3-d307-b50b8c9edab6"
      },
      "source": [
        "#Predictions are energies from our two categories. Hence .5 < is 0.0 and < .5 is 1.0\n",
        "print (\"Predictions: \", end='   ')\n",
        "for i in range(0,10):\n",
        "  if(outputs[i] < .5):\n",
        "    print(1.0, end='   ')\n",
        "  else:\n",
        "    print(0.0, end='   ')"
      ],
      "execution_count": 49,
      "outputs": [
        {
          "output_type": "stream",
          "text": [
            "Predictions:    0.0   0.0   1.0   0.0   1.0   1.0   1.0   1.0   0.0   1.0   "
          ],
          "name": "stdout"
        }
      ]
    },
    {
      "cell_type": "markdown",
      "metadata": {
        "id": "Tct1coeYYoVB",
        "colab_type": "text"
      },
      "source": [
        "Model creidt to [EsterHlav](https://github.com/EsterHlav)'s GitHub [repo](https://github.com/EsterHlav/GloVe_Sentiment_Analysis_MLP_CNN_TwitterSentiment140\n",
        ") "
      ]
    }
  ]
}